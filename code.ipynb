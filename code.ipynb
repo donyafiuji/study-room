{
 "cells": [
  {
   "cell_type": "code",
   "execution_count": 72,
   "metadata": {},
   "outputs": [],
   "source": [
    "from googletrans import Translator\n",
    "import re\n",
    "from deep_translator import GoogleTranslator\n",
    "import glob"
   ]
  },
  {
   "cell_type": "code",
   "execution_count": 2,
   "metadata": {},
   "outputs": [],
   "source": [
    "parent_dir = 'english'\n",
    "seasons =[] \n",
    "filenames = {}\n",
    "subtitles =[]\n",
    "\n",
    "for season in range(1, 11):\n",
    "\n",
    "    season_dir = f'{parent_dir}/season {season}'\n",
    "    seasons.append(f'season {season}')\n",
    "\n",
    "    for filename in glob.glob(f'{season_dir}/*.srt'):\n",
    "        with open(filename, 'r+', encoding='ISO-8859-1') as file:\n",
    "\n",
    "            content = file.readlines()\n",
    "            content = [line for line in content if line.strip()]\n",
    "            file.seek(0) \n",
    "            file.writelines(content)\n",
    "            file.truncate()  "
   ]
  },
  {
   "cell_type": "code",
   "execution_count": 3,
   "metadata": {},
   "outputs": [],
   "source": [
    "for season in range(1, 11):\n",
    "\n",
    "    season_dir = f'{parent_dir}/season {season}'\n",
    "    seasons.append(f'season {season}')\n",
    "    \n",
    "    for filename in glob.glob(f'{season_dir}/*.srt'):\n",
    "        with open(filename, 'r+', encoding='ISO-8859-1') as file:\n",
    "\n",
    "            content = file.readlines()\n",
    "            content = [line for line in content if not line.startswith('[')]\n",
    "            file.seek(0) \n",
    "            file.writelines(content)\n",
    "            file.truncate()  "
   ]
  },
  {
   "cell_type": "code",
   "execution_count": 4,
   "metadata": {},
   "outputs": [],
   "source": [
    "for season in range(1, 11):\n",
    "\n",
    "    season_dir = f'{parent_dir}/season {season}'\n",
    "    seasons.append(f'season {season}')\n",
    "    for filename in glob.glob(f'{season_dir}/*.srt'):\n",
    "        with open(filename, 'r+', encoding='ISO-8859-1') as file:\n",
    "\n",
    "            content = file.readlines()\n",
    "            content = [line for line in content if not line.lstrip().startswith(tuple(str(x) for x in [1,2,3,4,5,6,7,8,9]))]  \n",
    "            file.seek(0) \n",
    "            file.writelines(content)\n",
    "            file.truncate()  "
   ]
  },
  {
   "cell_type": "code",
   "execution_count": 37,
   "metadata": {},
   "outputs": [],
   "source": [
    "with open('english/season 1/Friends - 1x01 - The One Where Monica Gets A Roommate.SAiNTS.en.srt', 'r') as file:\n",
    "    content = file.read()\n",
    "\n",
    "    # Use regex to separate timestamp and subtitle text\n",
    "    pattern = r'(\\d{2}:\\d{2}:\\d{2},\\d{3}) --> (\\d{2}:\\d{2}:\\d{2},\\d{3})\\n(.+?)(?=\\n\\d{2}:\\d{2}:\\d{2},\\d{3}|\\n\\n|$)'\n",
    "    matches = re.findall(pattern, content, re.DOTALL)\n",
    "dialogues = []\n",
    "# Print the matches\n",
    "for match in matches:\n",
    "    start_time, end_time, dialogue = match\n",
    "    dialogue = dialogue.replace('\\n', ' ')\n",
    "    dialogue = dialogue.replace('\\ ', '')\n",
    "    dialogues.append(dialogue)\n",
    "print(dialogues[0],matches[0])\n",
    "print(len(dialogues),len(matches))\n",
    "dialogues"
   ]
  },
  {
   "cell_type": "code",
   "execution_count": 29,
   "metadata": {},
   "outputs": [
    {
     "name": "stdout",
     "output_type": "stream",
     "text": [
      "season 1 , The One Where It All Began (Pilot)\n",
      "start time = 00:00:01,601 , end time = 00:00:05,059\n"
     ]
    }
   ],
   "source": [
    "for match in matches:\n",
    "    start_time, end_time, text = match\n",
    "    if text.startswith ('The One W'):\n",
    "        tag = f'season 1 , {text}'\n",
    "        time = f'start time = {start_time} , end time = {end_time}'\n",
    "        print(tag)\n",
    "        print(time)"
   ]
  },
  {
   "cell_type": "code",
   "execution_count": 30,
   "metadata": {},
   "outputs": [
    {
     "name": "stdout",
     "output_type": "stream",
     "text": [
      "391\n"
     ]
    }
   ],
   "source": [
    "print(len(matches))"
   ]
  },
  {
   "attachments": {},
   "cell_type": "markdown",
   "metadata": {},
   "source": [
    "WordExtraction"
   ]
  },
  {
   "cell_type": "code",
   "execution_count": 74,
   "metadata": {},
   "outputs": [
    {
     "name": "stdout",
     "output_type": "stream",
     "text": [
      "1. Original: I\n",
      "   Translated: راس فکر نمی کنم از نقشه استفاده کنی.\n",
      "2. Original: don\n",
      "   Translated: راس فکر نمی کنم از نقشه استفاده کنی.\n",
      "3. Original: t\n",
      "   Translated: راس فکر نمی کنم از نقشه استفاده کنی.\n",
      "4. Original: think\n",
      "   Translated: راس فکر نمی کنم از نقشه استفاده کنی.\n",
      "5. Original: you\n",
      "   Translated: راس فکر نمی کنم از نقشه استفاده کنی.\n",
      "6. Original: know\n",
      "   Translated: راس فکر نمی کنم از نقشه استفاده کنی.\n",
      "7. Original: how\n",
      "   Translated: راس فکر نمی کنم از نقشه استفاده کنی.\n",
      "8. Original: to\n",
      "   Translated: راس فکر نمی کنم از نقشه استفاده کنی.\n",
      "9. Original: use\n",
      "   Translated: راس فکر نمی کنم از نقشه استفاده کنی.\n",
      "10. Original: a\n",
      "   Translated: راس فکر نمی کنم از نقشه استفاده کنی.\n",
      "11. Original: map\n",
      "   Translated: راس فکر نمی کنم از نقشه استفاده کنی.\n",
      "12. Original: Ross\n",
      "   Translated: راس فکر نمی کنم از نقشه استفاده کنی.\n"
     ]
    }
   ],
   "source": [
    "translator = Translator()\n",
    "\n",
    "dialogue = \"I don't think you know how to use a map, Ross.\"\n",
    "\n",
    "words = re.findall(r'\\b\\w+\\b', dialogue)\n",
    "\n",
    "translated_words = []\n",
    "for word in words:\n",
    "    match = re.search(r'\\w+', word)\n",
    "    if match:\n",
    "        translated_word = GoogleTranslator(source='auto', target='fa').translate(dialogue) \n",
    "    translated_words.append(translated_word)\n",
    "\n",
    "# Print the original and translated words\n",
    "for i, word in enumerate(words):\n",
    "    print(f\"{i+1}. Original: {word}\")\n",
    "    print(f\"   Translated: {translated_words[i]}\")\n"
   ]
  }
 ],
 "metadata": {
  "kernelspec": {
   "display_name": "Python 3",
   "language": "python",
   "name": "python3"
  },
  "language_info": {
   "codemirror_mode": {
    "name": "ipython",
    "version": 3
   },
   "file_extension": ".py",
   "mimetype": "text/x-python",
   "name": "python",
   "nbconvert_exporter": "python",
   "pygments_lexer": "ipython3",
   "version": "3.9.5"
  },
  "orig_nbformat": 4,
  "vscode": {
   "interpreter": {
    "hash": "916dbcbb3f70747c44a77c7bcd40155683ae19c65e1c03b4aa3499c5328201f1"
   }
  }
 },
 "nbformat": 4,
 "nbformat_minor": 2
}
