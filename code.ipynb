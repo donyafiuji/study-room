{
 "cells": [
  {
   "cell_type": "code",
   "execution_count": 6,
   "metadata": {},
   "outputs": [],
   "source": [
    "from deep_translator import GoogleTranslator\n",
    "import loadSubtitle \n",
    "import WordExtraction"
   ]
  },
  {
   "cell_type": "code",
   "execution_count": 9,
   "metadata": {},
   "outputs": [],
   "source": [
    "seasons, file_adresess = loadSubtitle.loadseasons('english')\n",
    "loadSubtitle.process_subtitles('english')"
   ]
  },
  {
   "attachments": {},
   "cell_type": "markdown",
   "metadata": {},
   "source": [
    "Pilot season 1 episode 1 "
   ]
  },
  {
   "cell_type": "code",
   "execution_count": 11,
   "metadata": {},
   "outputs": [
    {
     "ename": "AttributeError",
     "evalue": "'function' object has no attribute 'matches'",
     "output_type": "error",
     "traceback": [
      "\u001b[1;31m---------------------------------------------------------------------------\u001b[0m",
      "\u001b[1;31mAttributeError\u001b[0m                            Traceback (most recent call last)",
      "\u001b[1;32me:\\work\\StudyRoom\\study-room\\code.ipynb Cell 4\u001b[0m in \u001b[0;36m<cell line: 2>\u001b[1;34m()\u001b[0m\n\u001b[0;32m      <a href='vscode-notebook-cell:/e%3A/work/StudyRoom/study-room/code.ipynb#X14sZmlsZQ%3D%3D?line=0'>1</a>\u001b[0m matches, dialogues \u001b[39m=\u001b[39m WordExtraction\u001b[39m.\u001b[39mDialogueExtraction()\n\u001b[1;32m----> <a href='vscode-notebook-cell:/e%3A/work/StudyRoom/study-room/code.ipynb#X14sZmlsZQ%3D%3D?line=1'>2</a>\u001b[0m tag \u001b[39m=\u001b[39m WordExtraction\u001b[39m.\u001b[39;49mtag()\n",
      "File \u001b[1;32me:\\work\\StudyRoom\\study-room\\WordExtraction.py:27\u001b[0m, in \u001b[0;36mtag\u001b[1;34m()\u001b[0m\n\u001b[0;32m     25\u001b[0m \u001b[39mdef\u001b[39;00m \u001b[39mtag\u001b[39m():\n\u001b[1;32m---> 27\u001b[0m     \u001b[39mfor\u001b[39;00m match \u001b[39min\u001b[39;00m DialogueExtraction\u001b[39m.\u001b[39;49mmatches:\n\u001b[0;32m     28\u001b[0m         start_time, end_time, text \u001b[39m=\u001b[39m match\n\u001b[0;32m     29\u001b[0m         \u001b[39mif\u001b[39;00m text\u001b[39m.\u001b[39mstartswith (\u001b[39m'\u001b[39m\u001b[39mThe One W\u001b[39m\u001b[39m'\u001b[39m):\n",
      "\u001b[1;31mAttributeError\u001b[0m: 'function' object has no attribute 'matches'"
     ]
    }
   ],
   "source": [
    "matches, dialogues = WordExtraction.DialogueExtraction()\n",
    "tag = WordExtraction.tag()"
   ]
  },
  {
   "cell_type": "code",
   "execution_count": 76,
   "metadata": {},
   "outputs": [],
   "source": [
    "stop_words = []\n",
    "for i in range(30):\n",
    "    word = input()\n",
    "    stop_words.append(word)"
   ]
  },
  {
   "cell_type": "code",
   "execution_count": 77,
   "metadata": {},
   "outputs": [
    {
     "data": {
      "text/plain": [
       "['I',\n",
       " 'you',\n",
       " 'He',\n",
       " 'She',\n",
       " 'They',\n",
       " 'Rachel',\n",
       " 'Ross',\n",
       " 'Monica',\n",
       " 'Chandler',\n",
       " 'Joey',\n",
       " 'Phoebe',\n",
       " 'me',\n",
       " 'It',\n",
       " \"It's\",\n",
       " 'your',\n",
       " 'some',\n",
       " 'a',\n",
       " 'an',\n",
       " 'am',\n",
       " 'is',\n",
       " 'are',\n",
       " 'The',\n",
       " 'one',\n",
       " '1',\n",
       " '2',\n",
       " '3',\n",
       " '4',\n",
       " '5',\n",
       " '6',\n",
       " '7']"
      ]
     },
     "execution_count": 77,
     "metadata": {},
     "output_type": "execute_result"
    }
   ],
   "source": [
    "stop_words"
   ]
  },
  {
   "attachments": {},
   "cell_type": "markdown",
   "metadata": {},
   "source": [
    "WordExtraction"
   ]
  },
  {
   "cell_type": "code",
   "execution_count": null,
   "metadata": {},
   "outputs": [],
   "source": [
    "translator = Translator()\n",
    "\n",
    "dialogue = \"I don't think you know how to use a map, Ross.\"\n",
    "\n",
    "words = dialogue.split()\n",
    "\n",
    "translated_words = []\n",
    "for word in words:\n",
    "    if word not in stop_words:\n",
    "        translated_word = GoogleTranslator(source='auto', target='fa').translate(word) \n",
    "    translated_words.append(translated_word)\n"
   ]
  }
 ],
 "metadata": {
  "kernelspec": {
   "display_name": "Python 3",
   "language": "python",
   "name": "python3"
  },
  "language_info": {
   "codemirror_mode": {
    "name": "ipython",
    "version": 3
   },
   "file_extension": ".py",
   "mimetype": "text/x-python",
   "name": "python",
   "nbconvert_exporter": "python",
   "pygments_lexer": "ipython3",
   "version": "3.10.4"
  },
  "orig_nbformat": 4,
  "vscode": {
   "interpreter": {
    "hash": "916dbcbb3f70747c44a77c7bcd40155683ae19c65e1c03b4aa3499c5328201f1"
   }
  }
 },
 "nbformat": 4,
 "nbformat_minor": 2
}
