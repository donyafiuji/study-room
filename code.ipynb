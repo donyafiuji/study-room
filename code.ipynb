{
 "cells": [
  {
   "cell_type": "code",
   "execution_count": 72,
   "metadata": {},
   "outputs": [],
   "source": [
    "from googletrans import Translator\n",
    "import re\n",
    "from deep_translator import GoogleTranslator\n",
    "import glob"
   ]
  },
  {
   "cell_type": "code",
   "execution_count": 2,
   "metadata": {},
   "outputs": [],
   "source": [
    "parent_dir = 'english'\n",
    "seasons =[] \n",
    "filenames = {}\n",
    "subtitles =[]\n",
    "\n",
    "for season in range(1, 11):\n",
    "\n",
    "    season_dir = f'{parent_dir}/season {season}'\n",
    "    seasons.append(f'season {season}')\n",
    "\n",
    "    for filename in glob.glob(f'{season_dir}/*.srt'):\n",
    "        with open(filename, 'r+', encoding='ISO-8859-1') as file:\n",
    "\n",
    "            content = file.readlines()\n",
    "            content = [line for line in content if line.strip()]\n",
    "            file.seek(0) \n",
    "            file.writelines(content)\n",
    "            file.truncate()  "
   ]
  },
  {
   "cell_type": "code",
   "execution_count": 3,
   "metadata": {},
   "outputs": [],
   "source": [
    "for season in range(1, 11):\n",
    "\n",
    "    season_dir = f'{parent_dir}/season {season}'\n",
    "    seasons.append(f'season {season}')\n",
    "    \n",
    "    for filename in glob.glob(f'{season_dir}/*.srt'):\n",
    "        with open(filename, 'r+', encoding='ISO-8859-1') as file:\n",
    "\n",
    "            content = file.readlines()\n",
    "            content = [line for line in content if not line.startswith('[')]\n",
    "            file.seek(0) \n",
    "            file.writelines(content)\n",
    "            file.truncate()  "
   ]
  },
  {
   "cell_type": "code",
   "execution_count": 4,
   "metadata": {},
   "outputs": [],
   "source": [
    "for season in range(1, 11):\n",
    "\n",
    "    season_dir = f'{parent_dir}/season {season}'\n",
    "    seasons.append(f'season {season}')\n",
    "    for filename in glob.glob(f'{season_dir}/*.srt'):\n",
    "        with open(filename, 'r+', encoding='ISO-8859-1') as file:\n",
    "\n",
    "            content = file.readlines()\n",
    "            content = [line for line in content if not line.lstrip().startswith(tuple(str(x) for x in [1,2,3,4,5,6,7,8,9]))]  \n",
    "            file.seek(0) \n",
    "            file.writelines(content)\n",
    "            file.truncate()  "
   ]
  },
  {
   "cell_type": "code",
   "execution_count": 37,
   "metadata": {},
   "outputs": [],
   "source": [
    "with open('english/season 1/Friends - 1x01 - The One Where Monica Gets A Roommate.SAiNTS.en.srt', 'r') as file:\n",
    "    content = file.read()\n",
    "\n",
    "    # Use regex to separate timestamp and subtitle text\n",
    "    pattern = r'(\\d{2}:\\d{2}:\\d{2},\\d{3}) --> (\\d{2}:\\d{2}:\\d{2},\\d{3})\\n(.+?)(?=\\n\\d{2}:\\d{2}:\\d{2},\\d{3}|\\n\\n|$)'\n",
    "    matches = re.findall(pattern, content, re.DOTALL)\n",
    "dialogues = []\n",
    "# Print the matches\n",
    "for match in matches:\n",
    "    start_time, end_time, dialogue = match\n",
    "    dialogue = dialogue.replace('\\n', ' ')\n",
    "    dialogue = dialogue.replace('\\ ', '')\n",
    "    dialogues.append(dialogue)\n",
    "print(dialogues[0],matches[0])\n",
    "print(len(dialogues),len(matches))\n",
    "dialogues"
   ]
  },
  {
   "cell_type": "code",
   "execution_count": 29,
   "metadata": {},
   "outputs": [
    {
     "name": "stdout",
     "output_type": "stream",
     "text": [
      "season 1 , The One Where It All Began (Pilot)\n",
      "start time = 00:00:01,601 , end time = 00:00:05,059\n"
     ]
    }
   ],
   "source": [
    "for match in matches:\n",
    "    start_time, end_time, text = match\n",
    "    if text.startswith ('The One W'):\n",
    "        tag = f'season 1 , {text}'\n",
    "        time = f'start time = {start_time} , end time = {end_time}'\n",
    "        print(tag)\n",
    "        print(time)"
   ]
  },
  {
   "cell_type": "code",
   "execution_count": 30,
   "metadata": {},
   "outputs": [
    {
     "name": "stdout",
     "output_type": "stream",
     "text": [
      "391\n"
     ]
    }
   ],
   "source": [
    "print(len(matches))"
   ]
  },
  {
   "cell_type": "code",
   "execution_count": 76,
   "metadata": {},
   "outputs": [],
   "source": [
    "stop_words = []\n",
    "for i in range(30):\n",
    "    word = input()\n",
    "    stop_words.append(word)"
   ]
  },
  {
   "cell_type": "code",
   "execution_count": 77,
   "metadata": {},
   "outputs": [
    {
     "data": {
      "text/plain": [
       "['I',\n",
       " 'you',\n",
       " 'He',\n",
       " 'She',\n",
       " 'They',\n",
       " 'Rachel',\n",
       " 'Ross',\n",
       " 'Monica',\n",
       " 'Chandler',\n",
       " 'Joey',\n",
       " 'Phoebe',\n",
       " 'me',\n",
       " 'It',\n",
       " \"It's\",\n",
       " 'your',\n",
       " 'some',\n",
       " 'a',\n",
       " 'an',\n",
       " 'am',\n",
       " 'is',\n",
       " 'are',\n",
       " 'The',\n",
       " 'one',\n",
       " '1',\n",
       " '2',\n",
       " '3',\n",
       " '4',\n",
       " '5',\n",
       " '6',\n",
       " '7']"
      ]
     },
     "execution_count": 77,
     "metadata": {},
     "output_type": "execute_result"
    }
   ],
   "source": [
    "stop_words"
   ]
  },
  {
   "attachments": {},
   "cell_type": "markdown",
   "metadata": {},
   "source": [
    "WordExtraction"
   ]
  },
  {
   "cell_type": "code",
   "execution_count": null,
   "metadata": {},
   "outputs": [],
   "source": [
    "translator = Translator()\n",
    "\n",
    "dialogue = \"I don't think you know how to use a map, Ross.\"\n",
    "\n",
    "words = dialogue.split()\n",
    "\n",
    "translated_words = []\n",
    "for word in words:\n",
    "    if word not in stop_words:\n",
    "        translated_word = GoogleTranslator(source='auto', target='fa').translate(word) \n",
    "    translated_words.append(translated_word)\n"
   ]
  }
 ],
 "metadata": {
  "kernelspec": {
   "display_name": "Python 3",
   "language": "python",
   "name": "python3"
  },
  "language_info": {
   "codemirror_mode": {
    "name": "ipython",
    "version": 3
   },
   "file_extension": ".py",
   "mimetype": "text/x-python",
   "name": "python",
   "nbconvert_exporter": "python",
   "pygments_lexer": "ipython3",
   "version": "3.9.5"
  },
  "orig_nbformat": 4,
  "vscode": {
   "interpreter": {
    "hash": "916dbcbb3f70747c44a77c7bcd40155683ae19c65e1c03b4aa3499c5328201f1"
   }
  }
 },
 "nbformat": 4,
 "nbformat_minor": 2
}
